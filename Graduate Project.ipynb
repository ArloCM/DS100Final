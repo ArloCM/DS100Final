{
 "cells": [
  {
   "cell_type": "markdown",
   "metadata": {},
   "source": [
    "<h1> DS200A Computer Vision Assignment</h1>"
   ]
  },
  {
   "cell_type": "markdown",
   "metadata": {},
   "source": [
    "#### Data Input, Feature Extraction, Modeling"
   ]
  },
  {
   "cell_type": "markdown",
   "metadata": {},
   "source": [
    "See notebooks labelled Data Input, EDA, and Neural Network for additional analysis"
   ]
  },
  {
   "cell_type": "markdown",
   "metadata": {},
   "source": [
    "<h2>  Part One: Data Input </h2>\t"
   ]
  },
  {
   "cell_type": "markdown",
   "metadata": {},
   "source": [
    "<h3>  Import Statements </h3>\t\n",
    "\n"
   ]
  },
  {
   "cell_type": "code",
   "execution_count": 1,
   "metadata": {},
   "outputs": [],
   "source": [
    "import numpy as np\n",
    "import matplotlib.pyplot as plt\n",
    "import seaborn as sns\n",
    "import pandas as pd\n",
    "import matplotlib\n",
    "import skimage\n",
    "import random\n",
    "from skimage import data\n",
    "from skimage import io\n",
    "from skimage import feature\n",
    "from skimage.color import rgb2gray\n",
    "from sklearn.preprocessing import LabelEncoder\n",
    "from sklearn.preprocessing import MinMaxScaler\n",
    "import numpy as np\n",
    "import mahotas\n",
    "import cv2\n",
    "import os\n",
    "import h5py\n",
    "from PIL import Image\n",
    "import os\n",
    "from random import shuffle"
   ]
  },
  {
   "cell_type": "markdown",
   "metadata": {},
   "source": [
    "### Helper functions, dictionaries and variables"
   ]
  },
  {
   "cell_type": "markdown",
   "metadata": {},
   "source": [
    "<h4> Using the code for reference, take the given folder and create a dataframe with the picture object, and the encoding as listed below. </h4>\t\n",
    "0=Airplanes, 1=Bear, 2=Blimp, 3=Comet, 4=Crab, 5=Dog, 6=Dolphin, 7=Giraffe, 8=Goat, 9=Gorilla, 10=Kangaroo, 11=Killer-Whale, 12=Leopards, 13=Llama, 14= Penguin, 15= Porcupine, 16=Teddy-Bear, 17=Triceratops, 18=Unicorn, 19=Zebra"
   ]
  },
  {
   "cell_type": "code",
   "execution_count": 2,
   "metadata": {},
   "outputs": [],
   "source": [
    "# Recode dictionary for use in the final function\n",
    "\n",
    "recode_dict = {0:'airplanes',\n",
    "1:'bear',\n",
    "2:'blimp',\n",
    "3:'comet',\n",
    "4:'crab',\n",
    "5:'dog',\n",
    "6:'dolphin',\n",
    "7:'giraffe',\n",
    "8:'goat',\n",
    "9:'gorilla',\n",
    "10:'kangaroo',\n",
    "11:'killer-whale',\n",
    "12:'leopards',\n",
    "13:'llama',\n",
    "14:'penguin',\n",
    "15:'porcupine',\n",
    "16:'teddy-bear',\n",
    "17:'triceratops',\n",
    "18:'unicorn',\n",
    "19:'zebra'}\n",
    "\n",
    "# Flips keys and values for use in final function\n",
    "recode = {y:x for x,y in recode_dict.items()}"
   ]
  },
  {
   "cell_type": "code",
   "execution_count": 3,
   "metadata": {},
   "outputs": [],
   "source": [
    "# Converts color image to greyscale\n",
    "def to_gray(color_img):\n",
    "    gray = cv2.cvtColor(color_img, cv2.COLOR_BGR2GRAY)\n",
    "    return gray"
   ]
  },
  {
   "cell_type": "code",
   "execution_count": 4,
   "metadata": {},
   "outputs": [],
   "source": [
    "# Path to training data\n",
    "file_path = '/Users/arlomalmberg/Documents/GSPP/Semester 2/DS100/final_project/20_categories_training/20_categories_training'\n",
    "\n",
    "# Number of trees for Random Forests\n",
    "num_trees = 100\n",
    "\n",
    "# Bins for histogram\n",
    "bins = 8\n",
    "\n",
    "# train_test_split size\n",
    "test_size = 0.10\n",
    "\n",
    "# Seed for reproducing same results\n",
    "seed = 9\n",
    "\n",
    "# Empty arrays for saving data\n",
    "features = []\n",
    "labels = []"
   ]
  },
  {
   "cell_type": "markdown",
   "metadata": {},
   "source": [
    "<h2> Part 2: Define functions for feature extraction </h2>"
   ]
  },
  {
   "cell_type": "code",
   "execution_count": 14,
   "metadata": {},
   "outputs": [],
   "source": [
    "# Returns the pixel size of the image\n",
    "def ft0(image):\n",
    "    return image.size\n",
    "\n",
    "# Returns the average of the red-channel pictures for the images\n",
    "def ft1(image):\n",
    "    reds = []\n",
    "    for i in range(len(image)):\n",
    "        reds.append(image[i][0][0])\n",
    "    return np.mean(reds)[np.newaxis]\n",
    "\n",
    "# Returns the average of the green-channel pictures for the images\n",
    "def ft2(image):\n",
    "    greens = []\n",
    "    for i in range(len(image)):\n",
    "        greens.append(image[i][0][1])\n",
    "    return np.mean(greens)[np.newaxis]\n",
    "\n",
    "# Returns the average of the blue-channel pictures for the images\n",
    "def ft3(image):\n",
    "    blues = []\n",
    "    for i in range(len(image)):\n",
    "        blues.append(image[i][0][2])\n",
    "    return np.mean(blues)[np.newaxis]\n",
    "\n",
    "# Returns the aspect ratio of the image\n",
    "def ft4(image):\n",
    "    return image.shape[1]/float(image.shape[0])\n",
    "\n",
    "# Calculates Canny edges\n",
    "def ft5(image):\n",
    "    grayscale = rgb2gray(image)\n",
    "    return skimage.feature.canny(grayscale)\n",
    "\n",
    "# Calculates Daisy features\n",
    "def ft6(image, visualize = False):\n",
    "    grayscale = rgb2gray(image)\n",
    "    return skimage.feature.daisy(grayscale, visualize = visualize)\n",
    "\n",
    "# Calculates HOG flattened vector\n",
    "def ft7(image, visualize = False):\n",
    "    return skimage.feature.hog(image, visualize = visualize)\n",
    "\n",
    "# Calculates Hu Moments\n",
    "def ft8(image):\n",
    "    image = np.uint8(image)\n",
    "    image = cv2.cvtColor(image, cv2.COLOR_BGR2GRAY)\n",
    "    feature = cv2.HuMoments(cv2.moments(image)).flatten()\n",
    "    return feature\n",
    "\n",
    "# Calculates Haralick Texture\n",
    "def ft9(image):\n",
    "    image = np.uint8(image)\n",
    "    # convert the image to grayscale\n",
    "    gray = cv2.cvtColor(image, cv2.COLOR_BGR2GRAY)\n",
    "    # compute the haralick texture feature vector\n",
    "    haralick = mahotas.features.haralick(gray).mean(axis=0)\n",
    "    # return the result\n",
    "    return haralick\n",
    "\n",
    "# Calculates Color Histogram\n",
    "def ft10(image, mask=None):\n",
    "    image = np.uint8(image)\n",
    "    # convert the image to HSV color-space\n",
    "    image = cv2.cvtColor(image, cv2.COLOR_BGR2HSV)\n",
    "    # compute the color histogram\n",
    "    hist  = cv2.calcHist([image], [0, 1, 2], None, [bins, bins, bins], [0, 256, 0, 256, 0, 256])\n",
    "    # normalize the histogram\n",
    "    cv2.normalize(hist, hist)\n",
    "    # return the histogram\n",
    "    return hist.flatten()\n",
    "\n",
    "# Generates SIFT descriptors- non-free feature :(\n",
    "def gen_ORB_features(color_img):\n",
    "    color_img = np.uint8(color_img)\n",
    "    img = to_gray(color_img)\n",
    "    orb = cv2.ORB_create()\n",
    "    kp, des = orb.detectAndCompute(img, None)\n",
    "    return kp, des"
   ]
  },
  {
   "cell_type": "markdown",
   "metadata": {},
   "source": [
    "### Define function to extract features from images"
   ]
  },
  {
   "cell_type": "code",
   "execution_count": 15,
   "metadata": {},
   "outputs": [],
   "source": [
    "def read_organize_data(file_path):\n",
    "    '''Takes a file path of a folder containing folders that contain images.\n",
    "        Extracts features from each image and saves features into an array\n",
    "        defined outside of the function.'''\n",
    "    \n",
    "    \n",
    "    #Removes unwanted folder from the directory list\n",
    "    \n",
    "    folder_directory = os.listdir(file_path)\n",
    "    folder_directory.remove('.DS_Store')\n",
    "    \n",
    "    df = pd.DataFrame()\n",
    "    \n",
    "    #Creates Image Collection object containing all the images of the specified folder\n",
    "    def load_func(image):\n",
    "        img = np.array(io.imread(image))\n",
    "        img = skimage.transform.resize(img, (300, 300), anti_aliasing=True)\n",
    "        return img\n",
    "    \n",
    "   \n",
    "    fake_ic = []\n",
    "    for folder in folder_directory:\n",
    "        folder_path = os.path.join(file_path, folder)\n",
    "        file_directory = os.listdir(folder_path)\n",
    "        for file in file_directory:\n",
    "            img_file = os.path.join(file_path, folder, file)\n",
    "            img = load_func(img_file)\n",
    "            if img.shape == (300,300,3):\n",
    "            \n",
    "                ####################################\n",
    "                # Global Feature extraction\n",
    "                ####################################\n",
    "                reds       = ft1(img)\n",
    "                greens     = ft2(img)\n",
    "                blues      = ft3(img)\n",
    "                hu_moments = ft8(img)\n",
    "                haralick   = ft9(img)\n",
    "                histogram  = ft10(img)\n",
    "                                \n",
    "                ####################################\n",
    "                # Local Feature/Bag of Visual Words extraction\n",
    "                ####################################\n",
    "                kp, desc = gen_ORB_features(img)  \n",
    "                \n",
    "                ###################################\n",
    "                # Concatenate features\n",
    "                ###################################\n",
    "                feature = np.hstack([reds, greens, blues, hu_moments, haralick, histogram, kp])          \n",
    "\n",
    "                # update the list of labels and feature vectors\n",
    "                labels.append(folder)\n",
    "                features.append(feature)\n"
   ]
  },
  {
   "cell_type": "code",
   "execution_count": 16,
   "metadata": {},
   "outputs": [],
   "source": [
    "read_organize_data(file_path)"
   ]
  },
  {
   "cell_type": "code",
   "execution_count": 17,
   "metadata": {},
   "outputs": [
    {
     "data": {
      "text/plain": [
       "1485"
      ]
     },
     "execution_count": 17,
     "metadata": {},
     "output_type": "execute_result"
    }
   ],
   "source": [
    "len(features)"
   ]
  },
  {
   "cell_type": "code",
   "execution_count": 18,
   "metadata": {},
   "outputs": [
    {
     "data": {
      "text/plain": [
       "1485"
      ]
     },
     "execution_count": 18,
     "metadata": {},
     "output_type": "execute_result"
    }
   ],
   "source": [
    "len(labels)"
   ]
  },
  {
   "cell_type": "markdown",
   "metadata": {},
   "source": [
    "### Inspect and save features and lables"
   ]
  },
  {
   "cell_type": "code",
   "execution_count": 20,
   "metadata": {},
   "outputs": [
    {
     "name": "stdout",
     "output_type": "stream",
     "text": [
      "feature vector size (1485, 535)\n",
      "training Labels (1485,)\n",
      "target labels: [ 9  9  9 ... 13 13 13]\n",
      "target labels shape: (1485,)\n",
      "CPU times: user 47.5 ms, sys: 14.8 ms, total: 62.3 ms\n",
      "Wall time: 54 ms\n"
     ]
    }
   ],
   "source": [
    "%%time\n",
    "# get the overall feature vector size\n",
    "print (\"feature vector size {}\".format(np.array(global_features).shape))\n",
    "\n",
    "# get the overall training label size\n",
    "print (\"training Labels {}\".format(np.array(labels).shape))\n",
    "\n",
    "# encode the target labels\n",
    "targetNames = np.unique(labels)\n",
    "le = LabelEncoder()\n",
    "target = le.fit_transform(labels)\n",
    "\n",
    "# normalize the feature vector in the range (0-1)\n",
    "scaler = MinMaxScaler(feature_range=(0, 1))\n",
    "rescaled_features = scaler.fit_transform(global_features)\n",
    "\n",
    "print (\"target labels: {}\".format(target))\n",
    "print (\"target labels shape: {}\".format(target.shape))\n",
    "\n",
    "# save the feature vector using HDF5\n",
    "h5f_data = h5py.File('/Users/arlomalmberg/Documents/GSPP/Semester 2/DS100/data.h5', 'w')\n",
    "h5f_data.create_dataset('dataset_1', data=np.array(rescaled_features))\n",
    "\n",
    "h5f_label = h5py.File('/Users/arlomalmberg/Documents/GSPP/Semester 2/DS100/labels.h5', 'w')\n",
    "h5f_label.create_dataset('dataset_1', data=np.array(target))\n",
    "\n",
    "h5f_data.close()\n",
    "h5f_label.close()"
   ]
  },
  {
   "cell_type": "markdown",
   "metadata": {},
   "source": [
    "<h2>  Part Three: Classifier training and performance assessment. </h2>\t"
   ]
  },
  {
   "cell_type": "code",
   "execution_count": 21,
   "metadata": {},
   "outputs": [
    {
     "name": "stdout",
     "output_type": "stream",
     "text": [
      "features shape: (1485, 535)\n",
      "labels shape: (1485,)\n"
     ]
    }
   ],
   "source": [
    "# import the necessary packages\n",
    "from matplotlib import pyplot\n",
    "from sklearn.model_selection import train_test_split, cross_val_score\n",
    "from sklearn.model_selection import KFold, StratifiedKFold\n",
    "from sklearn.metrics import confusion_matrix, accuracy_score, classification_report\n",
    "from sklearn.linear_model import LogisticRegression\n",
    "from sklearn.tree import DecisionTreeClassifier\n",
    "from sklearn.ensemble import RandomForestClassifier\n",
    "from sklearn.neighbors import KNeighborsClassifier\n",
    "from sklearn.discriminant_analysis import LinearDiscriminantAnalysis\n",
    "from sklearn.naive_bayes import GaussianNB\n",
    "from sklearn.svm import SVC\n",
    "from sklearn.externals import joblib\n",
    "\n",
    "# create all the machine learning models\n",
    "models = []\n",
    "models.append(('LR', LogisticRegression(random_state=9)))\n",
    "models.append(('LDA', LinearDiscriminantAnalysis()))\n",
    "models.append(('KNN', KNeighborsClassifier()))\n",
    "models.append(('CART', DecisionTreeClassifier(random_state=9)))\n",
    "models.append(('RF', RandomForestClassifier(n_estimators=num_trees, random_state=9)))\n",
    "models.append(('NB', GaussianNB()))\n",
    "models.append(('SVM', SVC(random_state=9)))\n",
    "\n",
    "# variables to hold the results and names\n",
    "results = []\n",
    "names = []\n",
    "scoring = \"accuracy\"\n",
    "\n",
    "# import the feature vector and trained labels\n",
    "h5f_data = h5py.File('/Users/arlomalmberg/Documents/GSPP/Semester 2/DS100/data.h5', 'r')\n",
    "h5f_label = h5py.File('/Users/arlomalmberg/Documents/GSPP/Semester 2/DS100/labels.h5', 'r')\n",
    "\n",
    "global_features_string = h5f_data['dataset_1']\n",
    "global_labels_string = h5f_label['dataset_1']\n",
    "\n",
    "global_features = np.array(global_features_string)\n",
    "global_labels = np.array(global_labels_string)\n",
    "\n",
    "h5f_data.close()\n",
    "h5f_label.close()\n",
    "\n",
    "# verify the shape of the feature vector and labels\n",
    "print (\"features shape: {}\".format(global_features.shape))\n",
    "print (\"labels shape: {}\".format(global_labels.shape))"
   ]
  },
  {
   "cell_type": "code",
   "execution_count": 22,
   "metadata": {},
   "outputs": [
    {
     "name": "stdout",
     "output_type": "stream",
     "text": [
      "Train data  : (1336, 535)\n",
      "Test data   : (149, 535)\n",
      "Train labels: (1336,)\n",
      "Test labels : (149,)\n"
     ]
    }
   ],
   "source": [
    "# split the training and testing data\n",
    "(trainDataGlobal, testDataGlobal, trainLabelsGlobal, testLabelsGlobal) = train_test_split(np.array(global_features),\n",
    "                                                                                          np.array(global_labels),\n",
    "                                                                                          test_size=test_size,\n",
    "                                                                                          random_state=seed)\n",
    "\n",
    "print (\"Train data  : {}\".format(trainDataGlobal.shape))\n",
    "print (\"Test data   : {}\".format(testDataGlobal.shape))\n",
    "print (\"Train labels: {}\".format(trainLabelsGlobal.shape))\n",
    "print (\"Test labels : {}\".format(testLabelsGlobal.shape))\n",
    "\n"
   ]
  },
  {
   "cell_type": "code",
   "execution_count": 23,
   "metadata": {
    "scrolled": true
   },
   "outputs": [
    {
     "name": "stdout",
     "output_type": "stream",
     "text": [
      "LR: 0.234244 (0.038046)\n",
      "LDA: 0.230485 (0.045391)\n",
      "KNN: 0.210285 (0.031994)\n",
      "CART: 0.186348 (0.022299)\n",
      "RF: 0.208080 (0.030183)\n",
      "NB: 0.130951 (0.026634)\n",
      "SVM: 0.097251 (0.022482)\n"
     ]
    },
    {
     "data": {
      "image/png": "[encoded data removed]",
      "text/plain": [
       "<Figure size 432x288 with 1 Axes>"
      ]
     },
     "metadata": {
      "needs_background": "light"
     },
     "output_type": "display_data"
    },
    {
     "name": "stdout",
     "output_type": "stream",
     "text": [
      "CPU times: user 31.9 s, sys: 660 ms, total: 32.5 s\n",
      "Wall time: 27.5 s\n"
     ]
    }
   ],
   "source": [
    "%%time\n",
    "# filter all the warnings\n",
    "import warnings\n",
    "warnings.filterwarnings('ignore')\n",
    "\n",
    "# 10-fold cross validation\n",
    "for name, model in models:\n",
    "    kfold = KFold(n_splits=10, random_state=7)\n",
    "    cv_results = cross_val_score(model, trainDataGlobal, trainLabelsGlobal, cv=kfold, scoring=scoring)\n",
    "    results.append(cv_results)\n",
    "    names.append(name)\n",
    "    msg = \"%s: %f (%f)\" % (name, cv_results.mean(), cv_results.std())\n",
    "    print(msg)\n",
    "\n",
    "# boxplot algorithm comparison\n",
    "fig = pyplot.figure()\n",
    "fig.suptitle('Machine Learning algorithm comparison')\n",
    "ax = fig.add_subplot(111)\n",
    "pyplot.boxplot(results)\n",
    "ax.set_xticklabels(names)\n",
    "pyplot.show()"
   ]
  },
  {
   "cell_type": "code",
   "execution_count": null,
   "metadata": {},
   "outputs": [],
   "source": []
  }
 ],
 "metadata": {
  "kernelspec": {
   "display_name": "Python 3",
   "language": "python",
   "name": "python3"
  },
  "language_info": {
   "codemirror_mode": {
    "name": "ipython",
    "version": 3
   },
   "file_extension": ".py",
   "mimetype": "text/x-python",
   "name": "python",
   "nbconvert_exporter": "python",
   "pygments_lexer": "ipython3",
   "version": "3.6.8"
  }
 },
 "nbformat": 4,
 "nbformat_minor": 2
}
