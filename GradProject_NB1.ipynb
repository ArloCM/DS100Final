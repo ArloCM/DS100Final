{
 "cells": [
  {
   "cell_type": "markdown",
   "metadata": {},
   "source": [
    "<h1> DS200A Computer Vision Assignment</h1>"
   ]
  },
  {
   "cell_type": "markdown",
   "metadata": {},
   "source": [
    "<h2>  Part One: Data Input </h2>\t\n"
   ]
  },
  {
   "cell_type": "markdown",
   "metadata": {},
   "source": [
    "<h3>  Import Statements </h3>\t\n"
   ]
  },
  {
   "cell_type": "code",
   "execution_count": 1,
   "metadata": {},
   "outputs": [],
   "source": [
    "#Import anything you need here\n",
    "import numpy as np\n",
    "import matplotlib.pyplot as plt\n",
    "import pandas as pd\n",
    "import matplotlib\n",
    "import skimage\n",
    "from skimage import data\n",
    "from skimage import io\n",
    "import os\n"
   ]
  },
  {
   "cell_type": "markdown",
   "metadata": {},
   "source": [
    "<h4> Using the code for reference, take the given folder and create a dataframe with the picture object, and the encoding as listed below. </h4>\t\n",
    "0=Airplanes, 1=Bear, 2=Blimp, 3=Comet, 4=Crab, 5=Dog, 6=Dolphin, 7=Giraffe, 8=Goat, 9=Gorilla, 10=Kangaroo, 11=Killer-Whale, 12=Leopards, 13=Llama, 14= Penguin, 15= Porcupine, 16=Teddy-Bear, 17=Triceratops, 18=Unicorn, 19=Zebra"
   ]
  },
  {
   "cell_type": "code",
   "execution_count": 2,
   "metadata": {},
   "outputs": [],
   "source": [
    "# Recode dictionary for use in the final function\n",
    "\n",
    "recode_dict = {0:'airplanes',\n",
    "1:'bear',\n",
    "2:'blimp',\n",
    "3:'comet',\n",
    "4:'crab',\n",
    "5:'dog',\n",
    "6:'dolphin',\n",
    "7:'giraffe',\n",
    "8:'goat',\n",
    "9:'gorilla',\n",
    "10:'kangaroo',\n",
    "11:'killer-whale',\n",
    "12:'leopards',\n",
    "13:'llama',\n",
    "14:'penguin',\n",
    "15:'porcupine',\n",
    "16:'teddy-bear',\n",
    "17:'triceratops',\n",
    "18:'unicorn',\n",
    "19:'zebra'}\n",
    "\n",
    "# Flips keys and values for use in final function\n",
    "\n",
    "recode = {y:x for x,y in recode_dict.items()}"
   ]
  },
  {
   "cell_type": "code",
   "execution_count": 3,
   "metadata": {},
   "outputs": [],
   "source": [
    "def read_organize_data(file_path):\n",
    "    '''Takes a file path of a folder containing folders that contain images.\n",
    "        Returns a dataframe with a column of images converted into 3-D \n",
    "        Numpy arrays, and a column of encodings representing image subjects.'''\n",
    "    \n",
    "    \n",
    "    #Removes unwanted folder from the directory list\n",
    "    \n",
    "    file_directory = os.listdir(file_path)\n",
    "    file_directory.remove('.DS_Store')\n",
    "    \n",
    "    df = pd.DataFrame()\n",
    "    \n",
    "    #Creates Image Collection object containing all the images of the specified folder\n",
    "    def load_func(image):\n",
    "        img = np.array(io.imread(image))\n",
    "        img = skimage.transform.resize(img, (300, 300), anti_aliasing=True)\n",
    "        return img\n",
    "    \n",
    "    fake_ic = []\n",
    "    for folder in file_directory:\n",
    "        folder_path = os.path.join(file_path, folder)\n",
    "        folder_directory = os.listdir(folder_path)\n",
    "        for file in folder_directory:\n",
    "            img_file = os.path.join(file_path, folder, file)\n",
    "            img = load_func(img_file)\n",
    "            fake_ic.append(img)\n",
    "        \n",
    "    df['Pictures'] = fake_ic\n",
    "    \n",
    "    #Creates an array of the corresponding image labels\n",
    "    folder_array = []\n",
    "    for folder in file_directory:\n",
    "        folder_path = os.path.join(file_path, folder)\n",
    "        folder_directory = os.listdir(folder_path)\n",
    "        for file in folder_directory:\n",
    "            folder_array.append(folder)\n",
    "    \n",
    "    df['Encoding'] = folder_array\n",
    "    \n",
    "    #Recodes the array of labels\n",
    "    df.replace(to_replace = recode, inplace = True)\n",
    "    \n",
    "    return df\n",
    "    "
   ]
  },
  {
   "cell_type": "code",
   "execution_count": 4,
   "metadata": {},
   "outputs": [
    {
     "name": "stderr",
     "output_type": "stream",
     "text": [
      "/Users/arlomalmberg/anaconda3/lib/python3.6/site-packages/pandas/core/internals/managers.py:1922: FutureWarning: elementwise comparison failed; returning scalar instead, but in the future will perform elementwise comparison\n",
      "  op = lambda x: operator.eq(x, b)\n"
     ]
    }
   ],
   "source": [
    "file_path = '/Users/arlomalmberg/Documents/GSPP/Semester 2/DS100/final_project/20_categories_training/20_categories_training'\n",
    "starting_data = read_organize_data(file_path)"
   ]
  },
  {
   "cell_type": "code",
   "execution_count": 5,
   "metadata": {},
   "outputs": [
    {
     "data": {
      "text/plain": [
       "(1501, 2)"
      ]
     },
     "execution_count": 5,
     "metadata": {},
     "output_type": "execute_result"
    }
   ],
   "source": [
    "#The dataframe contains 1501 images and their corresponding labels\n",
    "starting_data.shape"
   ]
  },
  {
   "cell_type": "code",
   "execution_count": 6,
   "metadata": {},
   "outputs": [],
   "source": [
    "file_name = '/Users/arlomalmberg/Documents/GSPP/Semester 2/DS100/final_project/starting_data.pkl'\n",
    "starting_data.to_pickle(file_name)"
   ]
  }
 ],
 "metadata": {
  "kernelspec": {
   "display_name": "Python 3",
   "language": "python",
   "name": "python3"
  },
  "language_info": {
   "codemirror_mode": {
    "name": "ipython",
    "version": 3
   },
   "file_extension": ".py",
   "mimetype": "text/x-python",
   "name": "python",
   "nbconvert_exporter": "python",
   "pygments_lexer": "ipython3",
   "version": "3.6.8"
  }
 },
 "nbformat": 4,
 "nbformat_minor": 2
}
